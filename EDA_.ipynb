{
 "cells": [
  {
   "cell_type": "markdown",
   "id": "3f200956",
   "metadata": {},
   "source": [
    "# Task 5: Exploratory Data Analysis (Titanic - Synthetic)\n",
    "\n",
    "This notebook performs EDA on a Titanic-like synthetic dataset generated for practice.  \n",
    "**Deliverables:** EDA with visuals and observations.\n",
    "\n",
    "**Contents:**\n",
    "1. Load data & quick look (`.info()`, `.describe()`)\n",
    "2. Missing values analysis\n",
    "3. Univariate analysis (histograms, boxplots, counts)\n",
    "4. Bivariate analysis (correlation heatmap, cross-tabs)\n",
    "5. Multivariate glimpses (pairplot on selected features)\n",
    "6. Insights summary\n"
   ]
  },
  {
   "cell_type": "code",
   "execution_count": null,
   "id": "c96bc3af",
   "metadata": {},
   "outputs": [],
   "source": [
    "# Setup\n",
    "import pandas as pd\n",
    "import numpy as np\n",
    "import matplotlib.pyplot as plt\n",
    "import seaborn as sns\n",
    "\n",
    "# Inline plotting (if running in Jupyter)\n",
    "%matplotlib inline\n",
    "\n",
    "# Load data\n",
    "df = pd.read_csv(r\"/mnt/data/task5_titanic_eda/titanic_train_synthetic.csv\")\n",
    "df.head()"
   ]
  },
  {
   "cell_type": "code",
   "execution_count": null,
   "id": "473ab5d5",
   "metadata": {},
   "outputs": [],
   "source": [
    "# Quick info and summary\n",
    "display(df.info())\n",
    "display(df.describe(include='all'))\n",
    "\n",
    "# Basic sanity checks\n",
    "display(df.isna().sum().sort_values(ascending=False))"
   ]
  },
  {
   "cell_type": "markdown",
   "id": "c5d700ec",
   "metadata": {},
   "source": [
    "## Missing Values\n",
    "We'll inspect missingness and decide on simple imputation strategies for numerical columns like `Age`.\n"
   ]
  },
  {
   "cell_type": "code",
   "execution_count": null,
   "id": "2e1814d9",
   "metadata": {},
   "outputs": [],
   "source": [
    "# Visualize missingness (simple bar)\n",
    "na_counts = df.isna().sum().sort_values(ascending=False)\n",
    "na_counts.plot(kind='bar', figsize=(10,4), title='Missing Values per Column')\n",
    "plt.tight_layout()\n",
    "plt.show()\n",
    "\n",
    "# Simple imputation for Age to proceed with plots (median)\n",
    "df['Age_imputed'] = df['Age'].fillna(df['Age'].median())"
   ]
  },
  {
   "cell_type": "markdown",
   "id": "c2ef2dae",
   "metadata": {},
   "source": [
    "## Univariate Analysis"
   ]
  },
  {
   "cell_type": "code",
   "execution_count": null,
   "id": "09b2ed57",
   "metadata": {},
   "outputs": [],
   "source": [
    "# Histograms for numeric columns\n",
    "num_cols = ['Age_imputed','Fare','SibSp','Parch']\n",
    "for col in num_cols:\n",
    "    plt.figure(figsize=(6,4))\n",
    "    plt.hist(df[col].dropna(), bins=30)\n",
    "    plt.title(f'Histogram of {col}')\n",
    "    plt.xlabel(col)\n",
    "    plt.ylabel('Count')\n",
    "    plt.tight_layout()\n",
    "    plt.show()"
   ]
  },
  {
   "cell_type": "code",
   "execution_count": null,
   "id": "60912ba3",
   "metadata": {},
   "outputs": [],
   "source": [
    "# Boxplots to check outliers\n",
    "for col in ['Age_imputed','Fare']:\n",
    "    plt.figure(figsize=(6,4))\n",
    "    plt.boxplot(df[col].dropna(), vert=True)\n",
    "    plt.title(f'Boxplot of {col}')\n",
    "    plt.ylabel(col)\n",
    "    plt.tight_layout()\n",
    "    plt.show()"
   ]
  },
  {
   "cell_type": "code",
   "execution_count": null,
   "id": "519da2f7",
   "metadata": {},
   "outputs": [],
   "source": [
    "# Categorical counts\n",
    "cat_cols = ['Survived','Pclass','Sex','Embarked']\n",
    "for col in cat_cols:\n",
    "    plt.figure(figsize=(6,4))\n",
    "    df[col].value_counts().plot(kind='bar')\n",
    "    plt.title(f'Count of {col} categories')\n",
    "    plt.xlabel(col)\n",
    "    plt.ylabel('Count')\n",
    "    plt.tight_layout()\n",
    "    plt.show()"
   ]
  },
  {
   "cell_type": "markdown",
   "id": "56849363",
   "metadata": {},
   "source": [
    "## Bivariate Analysis"
   ]
  },
  {
   "cell_type": "code",
   "execution_count": null,
   "id": "7391b2ad",
   "metadata": {},
   "outputs": [],
   "source": [
    "# Survival rate by Sex and Pclass\n",
    "ct1 = pd.crosstab(df['Sex'], df['Survived'], normalize='index') * 100\n",
    "ct2 = pd.crosstab(df['Pclass'], df['Survived'], normalize='index') * 100\n",
    "display(ct1.round(2))\n",
    "display(ct2.round(2))\n",
    "\n",
    "# Bar charts for survival by groups\n",
    "for col in ['Sex', 'Pclass', 'Embarked']:\n",
    "    rate = df.groupby(col)['Survived'].mean() * 100\n",
    "    plt.figure(figsize=(6,4))\n",
    "    rate.plot(kind='bar')\n",
    "    plt.title(f'Survival Rate by {col} (%)')\n",
    "    plt.ylabel('Survival Rate (%)')\n",
    "    plt.tight_layout()\n",
    "    plt.show()"
   ]
  },
  {
   "cell_type": "code",
   "execution_count": null,
   "id": "a71d232c",
   "metadata": {},
   "outputs": [],
   "source": [
    "# Correlation heatmap (numeric)\n",
    "corr = df[['Survived','Pclass','Age_imputed','SibSp','Parch','Fare']].corr()\n",
    "plt.figure(figsize=(6,5))\n",
    "sns.heatmap(corr, annot=True, fmt='.2f', square=True)\n",
    "plt.title('Correlation Heatmap')\n",
    "plt.tight_layout()\n",
    "plt.show()"
   ]
  },
  {
   "cell_type": "code",
   "execution_count": null,
   "id": "f2b47259",
   "metadata": {},
   "outputs": [],
   "source": [
    "# Pairplot on a subset to visualize relationships\n",
    "sns.pairplot(df[['Survived','Pclass','Age_imputed','Fare']], hue='Survived', diag_kind='hist')\n",
    "plt.show()"
   ]
  },
  {
   "cell_type": "markdown",
   "id": "aff2401d",
   "metadata": {},
   "source": [
    "## Observations (write-up)\n",
    "- **Sex vs Survival:** Females show notably higher survival rates compared to males, which aligns with historical reports.\n",
    "- **Class vs Survival:** Passengers in higher classes (1 > 2 > 3) tend to have higher survival rates.\n",
    "- **Fare:** Higher fare (proxy for class/amenities) is mildly associated with higher survival.\n",
    "- **Age:** The effect of age is subtle; extreme ages can show different patterns. We imputed missing ages with the median to enable plots.\n",
    "- **Family (SibSp/Parch):** Small family sizes sometimes correlate with slightly better outcomes than very large groups.\n",
    "- **Outliers:** Fare shows some outliers, which is expected (a few premium tickets/cabins)."
   ]
  }
 ],
 "metadata": {},
 "nbformat": 4,
 "nbformat_minor": 5
}
